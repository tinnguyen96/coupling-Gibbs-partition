{
 "cells": [
  {
   "cell_type": "code",
   "execution_count": 1,
   "metadata": {},
   "outputs": [],
   "source": [
    "import numpy as np\n",
    "import matplotlib.pyplot as plt\n",
    "from scipy import stats\n",
    "\n",
    "# Display options\n",
    "np.set_printoptions(precision=4)\n",
    "import matplotlib as mpl\n",
    "mpl.rcParams['figure.dpi'] = 300\n",
    "#from matplotlib import rc\n",
    "#rc('font', **{'family': 'serif', 'serif': ['cmt']})\n",
    "#rc('text', usetex=False)\n",
    "\n",
    "import matplotlib as mpl\n",
    "plt.rcParams.update({\n",
    "    \"text.usetex\": True,\n",
    "    \"font.family\": \"sans-serif\",\n",
    "    \"font.sans-serif\": [\"Computer Modern Sans serif\"]})\n",
    "## for Palatino and other serif fonts use:\n",
    "plt.rcParams.update({\n",
    "    \"text.usetex\": True,\n",
    "    \"font.family\": \"serif\",\n",
    "    \"font.serif\": [\"Palatino\"],\n",
    "})\n",
    "\n",
    "# Local imports\n",
    "import sys\n",
    "sys.path.append(\"modules/\")\n",
    "import importlib\n",
    "import gmm_data\n",
    "import compile_results\n",
    "importlib.reload(compile_results);"
   ]
  },
  {
   "cell_type": "markdown",
   "metadata": {},
   "source": [
    "# Figure 3b and 3c"
   ]
  },
  {
   "cell_type": "code",
   "execution_count": 2,
   "metadata": {},
   "outputs": [
    {
     "name": "stdout",
     "output_type": "stream",
     "text": [
      "Processing N = 200\n",
      "Will load data from data/nestedGMM_D=1_N=200_alpha=0.50_sd=2.00_sd0=10.00_K=10_seed=0.pkl\n",
      "Loaded data has shape (200, 1)\n",
      "Loading estimates from figure2_results/nestedGMM_D=1_N=200_alpha=0.50_sd=2.00_sd0=10.00_K=10_seed=0/sd=2.00_sd0=3.00_alpha=1.00/coupled_estimates_totRep=400_hType=predictive_initType=crp_prior_maxTime=300_burnin=10_minIter=100.npz\n"
     ]
    },
    {
     "ename": "FileNotFoundError",
     "evalue": "[Errno 2] No such file or directory: 'figure2_results/nestedGMM_D=1_N=200_alpha=0.50_sd=2.00_sd0=10.00_K=10_seed=0/sd=2.00_sd0=3.00_alpha=1.00/coupled_estimates_totRep=400_hType=predictive_initType=crp_prior_maxTime=300_burnin=10_minIter=100.npz'",
     "output_type": "error",
     "traceback": [
      "\u001b[0;31m---------------------------------------------------------------------------\u001b[0m",
      "\u001b[0;31mFileNotFoundError\u001b[0m                         Traceback (most recent call last)",
      "\u001b[0;32m<ipython-input-2-db0c6926818b>\u001b[0m in \u001b[0;36m<module>\u001b[0;34m()\u001b[0m\n\u001b[1;32m     33\u001b[0m \u001b[0;34m\u001b[0m\u001b[0m\n\u001b[1;32m     34\u001b[0m     \u001b[0mdata\u001b[0m\u001b[0;34m,\u001b[0m \u001b[0mtrue_density\u001b[0m \u001b[0;34m=\u001b[0m \u001b[0mgmm_data\u001b[0m\u001b[0;34m.\u001b[0m\u001b[0mload_gmm_data\u001b[0m\u001b[0;34m(\u001b[0m\u001b[0mdata_dir\u001b[0m\u001b[0;34m,\u001b[0m \u001b[0mD\u001b[0m\u001b[0;34m,\u001b[0m \u001b[0mNdata\u001b[0m\u001b[0;34m,\u001b[0m \u001b[0mdata_alpha\u001b[0m\u001b[0;34m,\u001b[0m \u001b[0mdata_sd\u001b[0m\u001b[0;34m,\u001b[0m \u001b[0mdata_sd0\u001b[0m\u001b[0;34m,\u001b[0m \u001b[0mdata_K\u001b[0m\u001b[0;34m,\u001b[0m \u001b[0mdata_seed\u001b[0m\u001b[0;34m,\u001b[0m \u001b[0mis_nested\u001b[0m\u001b[0;34m)\u001b[0m\u001b[0;34m\u001b[0m\u001b[0;34m\u001b[0m\u001b[0m\n\u001b[0;32m---> 35\u001b[0;31m     \u001b[0mcompile_results\u001b[0m\u001b[0;34m.\u001b[0m\u001b[0mreport_predictive_density\u001b[0m\u001b[0;34m(\u001b[0m\u001b[0mNdata\u001b[0m\u001b[0;34m,\u001b[0m \u001b[0mtot_reps\u001b[0m\u001b[0;34m,\u001b[0m \u001b[0msavedirroot\u001b[0m\u001b[0;34m,\u001b[0m \u001b[0mtrue_density\u001b[0m\u001b[0;34m,\u001b[0m \u001b[0minit_type\u001b[0m\u001b[0;34m,\u001b[0m \u001b[0mmax_time\u001b[0m\u001b[0;34m,\u001b[0m \u001b[0mk\u001b[0m\u001b[0;34m,\u001b[0m \u001b[0mm\u001b[0m\u001b[0;34m,\u001b[0m \u001b[0mprint_title\u001b[0m\u001b[0;34m,\u001b[0m \u001b[0mext\u001b[0m\u001b[0;34m)\u001b[0m\u001b[0;34m\u001b[0m\u001b[0;34m\u001b[0m\u001b[0m\n\u001b[0m",
      "\u001b[0;32m~/coupling-Gibbs-partition/modules/compile_results.py\u001b[0m in \u001b[0;36mreport_predictive_density\u001b[0;34m(Ndata, tot_reps, savedirroot, true_density, init_type, max_time, k, m, print_title, ext)\u001b[0m\n\u001b[1;32m    222\u001b[0m         \u001b[0mestimates\u001b[0m \u001b[0;34m=\u001b[0m \u001b[0mpickle\u001b[0m\u001b[0;34m.\u001b[0m\u001b[0mload\u001b[0m\u001b[0;34m(\u001b[0m\u001b[0mopen\u001b[0m\u001b[0;34m(\u001b[0m\u001b[0mestimatespath\u001b[0m\u001b[0;34m,\u001b[0m \u001b[0;34m\"rb\"\u001b[0m\u001b[0;34m)\u001b[0m\u001b[0;34m)\u001b[0m\u001b[0;34m\u001b[0m\u001b[0;34m\u001b[0m\u001b[0m\n\u001b[1;32m    223\u001b[0m     \u001b[0;32melif\u001b[0m \u001b[0;34m(\u001b[0m\u001b[0mext\u001b[0m \u001b[0;34m==\u001b[0m \u001b[0;34m\"npz\"\u001b[0m\u001b[0;34m)\u001b[0m\u001b[0;34m:\u001b[0m\u001b[0;34m\u001b[0m\u001b[0;34m\u001b[0m\u001b[0m\n\u001b[0;32m--> 224\u001b[0;31m         \u001b[0mestimates\u001b[0m \u001b[0;34m=\u001b[0m \u001b[0mnp\u001b[0m\u001b[0;34m.\u001b[0m\u001b[0mload\u001b[0m\u001b[0;34m(\u001b[0m\u001b[0mestimatespath\u001b[0m\u001b[0;34m)\u001b[0m\u001b[0;34m\u001b[0m\u001b[0;34m\u001b[0m\u001b[0m\n\u001b[0m\u001b[1;32m    225\u001b[0m     \u001b[0mprint\u001b[0m\u001b[0;34m(\u001b[0m\u001b[0;34m\"Finished loading estimates\"\u001b[0m\u001b[0;34m)\u001b[0m\u001b[0;34m\u001b[0m\u001b[0;34m\u001b[0m\u001b[0m\n\u001b[1;32m    226\u001b[0m     \u001b[0maverage_ppd\u001b[0m\u001b[0;34m,\u001b[0m \u001b[0munsuccessful_counts\u001b[0m \u001b[0;34m=\u001b[0m \u001b[0mcompute_average_ppd\u001b[0m\u001b[0;34m(\u001b[0m\u001b[0mestimates\u001b[0m\u001b[0;34m,\u001b[0m \u001b[0mext\u001b[0m\u001b[0;34m)\u001b[0m\u001b[0;34m\u001b[0m\u001b[0;34m\u001b[0m\u001b[0m\n",
      "\u001b[0;32m/state/partition1/llgrid/pkg/anaconda/anaconda3-2020a/lib/python3.6/site-packages/numpy/lib/npyio.py\u001b[0m in \u001b[0;36mload\u001b[0;34m(file, mmap_mode, allow_pickle, fix_imports, encoding)\u001b[0m\n\u001b[1;32m    420\u001b[0m         \u001b[0mown_fid\u001b[0m \u001b[0;34m=\u001b[0m \u001b[0;32mFalse\u001b[0m\u001b[0;34m\u001b[0m\u001b[0;34m\u001b[0m\u001b[0m\n\u001b[1;32m    421\u001b[0m     \u001b[0;32melse\u001b[0m\u001b[0;34m:\u001b[0m\u001b[0;34m\u001b[0m\u001b[0;34m\u001b[0m\u001b[0m\n\u001b[0;32m--> 422\u001b[0;31m         \u001b[0mfid\u001b[0m \u001b[0;34m=\u001b[0m \u001b[0mopen\u001b[0m\u001b[0;34m(\u001b[0m\u001b[0mos_fspath\u001b[0m\u001b[0;34m(\u001b[0m\u001b[0mfile\u001b[0m\u001b[0;34m)\u001b[0m\u001b[0;34m,\u001b[0m \u001b[0;34m\"rb\"\u001b[0m\u001b[0;34m)\u001b[0m\u001b[0;34m\u001b[0m\u001b[0;34m\u001b[0m\u001b[0m\n\u001b[0m\u001b[1;32m    423\u001b[0m         \u001b[0mown_fid\u001b[0m \u001b[0;34m=\u001b[0m \u001b[0;32mTrue\u001b[0m\u001b[0;34m\u001b[0m\u001b[0;34m\u001b[0m\u001b[0m\n\u001b[1;32m    424\u001b[0m \u001b[0;34m\u001b[0m\u001b[0m\n",
      "\u001b[0;31mFileNotFoundError\u001b[0m: [Errno 2] No such file or directory: 'figure2_results/nestedGMM_D=1_N=200_alpha=0.50_sd=2.00_sd0=10.00_K=10_seed=0/sd=2.00_sd0=3.00_alpha=1.00/coupled_estimates_totRep=400_hType=predictive_initType=crp_prior_maxTime=300_burnin=10_minIter=100.npz'"
     ]
    }
   ],
   "source": [
    "data_dir = \"data/\"\n",
    "results_dir=\"figure2_results/\"\n",
    "data_type=\"gmm\"\n",
    "D=1\n",
    "data_sd=2.0\n",
    "data_sd0=10.0\n",
    "data_K=10\n",
    "data_alpha=0.5\n",
    "data_seed=0\n",
    "sd=2.0\n",
    "sd0=3.0\n",
    "k = 10 # burn-in\n",
    "m = 100 # minimum iterations\n",
    "alpha=1\n",
    "is_nested=True\n",
    "num_reps = 20\n",
    "pool_size = 20\n",
    "tot_reps = num_reps*pool_size\n",
    "ext = \"npz\"\n",
    "\n",
    "init_type=\"crp_prior\"\n",
    "h_type = \"predictive\"\n",
    "\n",
    "Ntime_list = [(200, 300), (300, 800)]\n",
    "print_title = False\n",
    "for x in Ntime_list:\n",
    "    Ndata = x[0]\n",
    "    max_time = x[1]\n",
    "    print(\"Processing N = %d\" %Ndata)\n",
    "    savedirroot = results_dir + gmm_data.make_experiment_name(Ndata, D, data_sd, \n",
    "                                                          data_sd0, data_alpha, data_K, \n",
    "                                                          data_seed, is_nested, sd, sd0, alpha)\n",
    "\n",
    "    data, true_density = gmm_data.load_gmm_data(data_dir, D, Ndata, data_alpha, data_sd, data_sd0, data_K, data_seed, is_nested)\n",
    "    compile_results.report_predictive_density(Ndata, tot_reps, savedirroot, true_density, init_type, max_time, k, m, print_title, ext)"
   ]
  }
 ],
 "metadata": {
  "kernelspec": {
   "display_name": "Python 3",
   "language": "python",
   "name": "python3"
  },
  "language_info": {
   "codemirror_mode": {
    "name": "ipython",
    "version": 3
   },
   "file_extension": ".py",
   "mimetype": "text/x-python",
   "name": "python",
   "nbconvert_exporter": "python",
   "pygments_lexer": "ipython3",
   "version": "3.6.9"
  },
  "latex_envs": {
   "LaTeX_envs_menu_present": true,
   "autoclose": false,
   "autocomplete": true,
   "bibliofile": "biblio.bib",
   "cite_by": "apalike",
   "current_citInitial": 1,
   "eqLabelWithNumbers": true,
   "eqNumInitial": 1,
   "hotkeys": {
    "equation": "Ctrl-E",
    "itemize": "Ctrl-I"
   },
   "labels_anchors": false,
   "latex_user_defs": false,
   "report_style_numbering": false,
   "user_envs_cfg": false
  },
  "toc": {
   "base_numbering": 1,
   "nav_menu": {},
   "number_sections": true,
   "sideBar": true,
   "skip_h1_title": false,
   "title_cell": "Table of Contents",
   "title_sidebar": "Contents",
   "toc_cell": false,
   "toc_position": {},
   "toc_section_display": true,
   "toc_window_display": false
  },
  "varInspector": {
   "cols": {
    "lenName": 16,
    "lenType": 16,
    "lenVar": 40
   },
   "kernels_config": {
    "python": {
     "delete_cmd_postfix": "",
     "delete_cmd_prefix": "del ",
     "library": "var_list.py",
     "varRefreshCmd": "print(var_dic_list())"
    },
    "r": {
     "delete_cmd_postfix": ") ",
     "delete_cmd_prefix": "rm(",
     "library": "var_list.r",
     "varRefreshCmd": "cat(var_dic_list()) "
    }
   },
   "types_to_exclude": [
    "module",
    "function",
    "builtin_function_or_method",
    "instance",
    "_Feature"
   ],
   "window_display": false
  }
 },
 "nbformat": 4,
 "nbformat_minor": 2
}
